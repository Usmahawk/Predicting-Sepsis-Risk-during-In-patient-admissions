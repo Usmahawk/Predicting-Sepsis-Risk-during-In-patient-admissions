{
 "cells": [
  {
   "cell_type": "markdown",
   "metadata": {},
   "source": [
    "# Data Processing Pipeline\n",
    "*Client: Royal Perth Hospital*\n",
    "\n",
    "*Team: Group 7*"
   ]
  },
  {
   "cell_type": "markdown",
   "metadata": {},
   "source": [
    "# Readme\n",
    "The following libraries need to be installed in order to run the source code."
   ]
  },
  {
   "cell_type": "code",
   "execution_count": 15,
   "metadata": {},
   "outputs": [],
   "source": [
    "import pandas as pd\n",
    "import numpy as np\n",
    "from pathlib import Path\n",
    "import os\n",
    "from importlib import reload\n",
    "# import utility functions\n",
    "import src.utils as utils\n",
    "\n",
    "# Note: to run main notebook from root directory, use:\n",
    "ROOT_DIR = Path('')\n",
    "# setup OS agnostic pathnames\n",
    "# ROOT_DIR = Path('..')\n",
    "\n",
    "import src.DataLoader as DataLoader\n",
    "reload(DataLoader)\n",
    "\n",
    "dataLoader = DataLoader.DataLoader(ROOT_DIR)"
   ]
  },
  {
   "cell_type": "markdown",
   "metadata": {},
   "source": [
    "# 1.Dataset Processing"
   ]
  },
  {
   "cell_type": "markdown",
   "metadata": {},
   "source": [
    "Load the dataset. The following tables are loaded for this project:\n",
    "- LABEVENTS\n",
    "- MICROBIOLOGYEVENTS\n",
    "- D_ICD_DIAGNOSES\n",
    "- D_ITEMS"
   ]
  },
  {
   "cell_type": "code",
   "execution_count": 2,
   "metadata": {},
   "outputs": [],
   "source": [
    "df_desc_icd, df_desc_labitems, df_desc_items = dataLoader.load_descriptions()"
   ]
  },
  {
   "cell_type": "markdown",
   "metadata": {},
   "source": [
    "The DIAGNOSES_ICD tables has a column ICD9_CODE which is the code for each disease diagnosed for the patient.\n",
    "\n",
    "- The Sepsis has 6 codes: ['77181', '99591', '99592', '67020', '67022', '67024']\n",
    "\n",
    "- We'll introduce a new column, IS_SEPSIS, as a binary classifier (1 for 6 sepsis ICD9 codes, 0 otherwise) for the target variable."
   ]
  },
  {
   "cell_type": "code",
   "execution_count": 3,
   "metadata": {},
   "outputs": [],
   "source": [
    "df_diagnoses_icd = dataLoader.load_diagnoses_icd(df_desc_icd)"
   ]
  },
  {
   "cell_type": "markdown",
   "metadata": {},
   "source": [
    "The Demographic dataframe is a combination of the patient and admission datasets. Adding some columns:\n",
    "- AGE: the age of the patient at the admitted year\n",
    "- IS_SEPSIS: indicating whether this is a sepsis case or not\n",
    "\n",
    "\n",
    "The labevents dataframe is loaded. Admissions under 18 years old are removed"
   ]
  },
  {
   "cell_type": "code",
   "execution_count": 4,
   "metadata": {},
   "outputs": [
    {
     "name": "stdout",
     "output_type": "stream",
     "text": [
      "Removed 8210 admissions with AGE < 18\n"
     ]
    }
   ],
   "source": [
    "df_demographic = dataLoader.load_demographic(df_diagnoses_icd)"
   ]
  },
  {
   "cell_type": "markdown",
   "metadata": {},
   "source": [
    "We replace those with aged > 100 by the median age of patients"
   ]
  },
  {
   "cell_type": "code",
   "execution_count": 5,
   "metadata": {},
   "outputs": [],
   "source": [
    "df_demographic = dataLoader.demographic_clean_AGE(df_demographic)"
   ]
  },
  {
   "cell_type": "markdown",
   "metadata": {},
   "source": [
    "The labevents dataframe is loaded. The records of admissions under 18 years old are removed.\n",
    "- The empty HADM_ID is this are cleaned"
   ]
  },
  {
   "cell_type": "code",
   "execution_count": 6,
   "metadata": {},
   "outputs": [],
   "source": [
    "df_labevents = dataLoader.load_labevents(df_demographic)"
   ]
  },
  {
   "cell_type": "markdown",
   "metadata": {},
   "source": [
    "Calculate the TIME from for labevents from ADMITTIME to CHARTTIME\n",
    "- A column NEW_ADMITTIME is added: if CHARTTIME < ADMITTIME, the NEW_ADMITTIME is the CHARTTIME, otherwise, use the ADMITTIME"
   ]
  },
  {
   "cell_type": "code",
   "execution_count": 9,
   "metadata": {},
   "outputs": [],
   "source": [
    "df_labevents = dataLoader.labevents_compute_TIME(df_labevents, df_demographic)"
   ]
  },
  {
   "cell_type": "markdown",
   "metadata": {},
   "source": [
    "# 2. Create train data"
   ]
  },
  {
   "cell_type": "code",
   "execution_count": 16,
   "metadata": {},
   "outputs": [],
   "source": [
    "dataLoader.create_train_data(df_labevents, df_demographic, df_desc_labitems, hours=0, feature_no=20, output_filename=ROOT_DIR/\"data/Model input data/test_new_file.csv\")"
   ]
  },
  {
   "cell_type": "code",
   "execution_count": 9,
   "metadata": {},
   "outputs": [],
   "source": [
    "dataLoader.create_train_data(df_labevents, df_demographic, df_desc_labitems, hours=2, feature_no=20)"
   ]
  },
  {
   "cell_type": "code",
   "execution_count": 10,
   "metadata": {},
   "outputs": [],
   "source": [
    "dataLoader.create_train_data(df_labevents, df_demographic, df_desc_labitems, hours=4, feature_no=20)"
   ]
  },
  {
   "cell_type": "code",
   "execution_count": 70,
   "metadata": {},
   "outputs": [],
   "source": [
    "df_final = dataLoader.create_train_data_sequence(df_labevents, df_demographic, df_desc_labitems, 4)"
   ]
  },
  {
   "cell_type": "code",
   "execution_count": 18,
   "metadata": {},
   "outputs": [],
   "source": [
    "df_final = dataLoader.create_train_data_sequence(df_labevents, df_demographic, df_desc_labitems, 8, output_filename = ROOT_DIR / 'data/Model input data/t8_sequence.csv')"
   ]
  },
  {
   "cell_type": "code",
   "execution_count": 12,
   "metadata": {},
   "outputs": [],
   "source": [
    "df_final = dataLoader.extract_train_data_by_features(df_labevents, df_demographic, df_desc_labitems, 4, ROOT_DIR / 'data/potential_labevents_count_with_proportion.csv', 20)"
   ]
  },
  {
   "cell_type": "code",
   "execution_count": 17,
   "metadata": {},
   "outputs": [
    {
     "data": {
      "text/plain": [
       "{'ITEMID_51222': 'Hemoglobin (51222)',\n",
       " 'ITEMID_51221': 'Hematocrit (51221)',\n",
       " 'ITEMID_51279': 'Red Blood Cells (51279)',\n",
       " 'ITEMID_50931': 'Glucose (50931)',\n",
       " 'ITEMID_51301': 'White Blood Cells (51301)',\n",
       " 'ITEMID_51256': 'Neutrophils (51256)',\n",
       " 'ITEMID_51274': 'PT (51274)',\n",
       " 'ITEMID_50970': 'Phosphate (50970)',\n",
       " 'ITEMID_51006': 'Urea Nitrogen (51006)',\n",
       " 'ITEMID_50893': 'Calcium, Total (50893)',\n",
       " 'ITEMID_51244': 'Lymphocytes (51244)',\n",
       " 'ITEMID_50902': 'Chloride (50902)',\n",
       " 'ITEMID_50882': 'Bicarbonate (50882)',\n",
       " 'ITEMID_50821': 'pO2 (50821)',\n",
       " 'ITEMID_51265': 'Platelet Count (51265)',\n",
       " 'ITEMID_51248': 'MCH (51248)',\n",
       " 'ITEMID_51275': 'PTT (51275)',\n",
       " 'ITEMID_51277': 'RDW (51277)',\n",
       " 'ITEMID_50820': 'pH (50820)',\n",
       " 'ITEMID_50818': 'pCO2 (50818)',\n",
       " 'ITEMID_50885': 'Bilirubin, Total (50885)',\n",
       " 'ITEMID_50912': 'Creatinine (50912)'}"
      ]
     },
     "execution_count": 17,
     "metadata": {},
     "output_type": "execute_result"
    }
   ],
   "source": [
    "itemID = [\"ITEMID_51222\", \"ITEMID_51221\", \"ITEMID_51279\", \"ITEMID_50931\", \"ITEMID_51301\", \"ITEMID_51256\", \"ITEMID_51274\", \n",
    "          \"ITEMID_50970\", \"ITEMID_51006\", \"ITEMID_50893\", \"ITEMID_51244\", \"ITEMID_50902\", \"ITEMID_50882\", \"ITEMID_50821\", \n",
    "          \"ITEMID_51265\", \"ITEMID_51248\", \"ITEMID_51275\", \"ITEMID_51277\", \"ITEMID_50820\", \"ITEMID_50818\", \"ITEMID_50885\", \"ITEMID_50912\"]\n",
    "dataLoader.convert_itemid_to_title(itemID, df_desc_labitems)"
   ]
  }
 ],
 "metadata": {
  "kernelspec": {
   "display_name": ".venv",
   "language": "python",
   "name": "python3"
  },
  "language_info": {
   "codemirror_mode": {
    "name": "ipython",
    "version": 3
   },
   "file_extension": ".py",
   "mimetype": "text/x-python",
   "name": "python",
   "nbconvert_exporter": "python",
   "pygments_lexer": "ipython3",
   "version": "3.10.5"
  },
  "orig_nbformat": 4
 },
 "nbformat": 4,
 "nbformat_minor": 2
}
